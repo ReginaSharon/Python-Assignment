{
 "cells": [
  {
   "cell_type": "code",
   "execution_count": 1,
   "metadata": {},
   "outputs": [
    {
     "name": "stdout",
     "output_type": "stream",
     "text": [
      "9\n"
     ]
    }
   ],
   "source": [
    "#1. Refering to a element and printing the element \n",
    "arr=[8,9,3,5]\n",
    "x=arr[1]\n",
    "print(x)\n"
   ]
  },
  {
   "cell_type": "code",
   "execution_count": 2,
   "metadata": {},
   "outputs": [
    {
     "name": "stdout",
     "output_type": "stream",
     "text": [
      "4\n"
     ]
    }
   ],
   "source": [
    "#2. Length of the array\n",
    "y=len(arr)\n",
    "print(y)"
   ]
  },
  {
   "cell_type": "code",
   "execution_count": 3,
   "metadata": {},
   "outputs": [
    {
     "name": "stdout",
     "output_type": "stream",
     "text": [
      "8\n",
      "9\n",
      "3\n",
      "5\n"
     ]
    }
   ],
   "source": [
    "#3. Looping through all the elements of the array\n",
    "for z in arr:\n",
    "    print(z)"
   ]
  },
  {
   "cell_type": "code",
   "execution_count": 5,
   "metadata": {},
   "outputs": [
    {
     "name": "stdout",
     "output_type": "stream",
     "text": [
      "8\n",
      "9\n",
      "3\n",
      "5\n",
      "1000\n",
      "1000\n"
     ]
    }
   ],
   "source": [
    "#4. Append\n",
    "arr.append(1000)\n",
    "for z in arr:\n",
    "    print(z)"
   ]
  },
  {
   "cell_type": "code",
   "execution_count": 6,
   "metadata": {},
   "outputs": [
    {
     "name": "stdout",
     "output_type": "stream",
     "text": [
      "8\n",
      "9\n",
      "3\n",
      "5\n",
      "1000\n"
     ]
    }
   ],
   "source": [
    "#5. Deleting elements using pop()- using index.\n",
    "arr.pop(5)\n",
    "for z in arr:\n",
    "    print(z)"
   ]
  },
  {
   "cell_type": "code",
   "execution_count": 7,
   "metadata": {},
   "outputs": [
    {
     "name": "stdout",
     "output_type": "stream",
     "text": [
      "8\n",
      "9\n",
      "3\n",
      "1000\n"
     ]
    }
   ],
   "source": [
    "#6. Deleting elements using remove()-using value.\n",
    "arr.remove(5)\n",
    "for z in arr:\n",
    "    print(z)"
   ]
  },
  {
   "cell_type": "code",
   "execution_count": 8,
   "metadata": {},
   "outputs": [
    {
     "name": "stdout",
     "output_type": "stream",
     "text": [
      "['red', 'yellow', 'orange', 8, 9, 3, 1000]\n"
     ]
    }
   ],
   "source": [
    "#7. Extend method.\n",
    "colors=['red','yellow','orange']\n",
    "colors.extend(arr)\n",
    "print(colors)"
   ]
  },
  {
   "cell_type": "code",
   "execution_count": 9,
   "metadata": {},
   "outputs": [
    {
     "name": "stdout",
     "output_type": "stream",
     "text": [
      "[1000, 3, 9, 8, 'orange', 'yellow', 'red']\n"
     ]
    }
   ],
   "source": [
    "#8. Revrse()\n",
    "colors.reverse()\n",
    "print(colors)"
   ]
  },
  {
   "cell_type": "code",
   "execution_count": 10,
   "metadata": {},
   "outputs": [
    {
     "name": "stdout",
     "output_type": "stream",
     "text": [
      "5\n"
     ]
    }
   ],
   "source": [
    "#9. Index()\n",
    "x=colors.index('yellow')\n",
    "print(x)"
   ]
  },
  {
   "cell_type": "code",
   "execution_count": 11,
   "metadata": {},
   "outputs": [
    {
     "name": "stdout",
     "output_type": "stream",
     "text": [
      "[3, 8, 9, 1000]\n"
     ]
    }
   ],
   "source": [
    "#10. Sort()\n",
    "arr.sort()\n",
    "print(arr)"
   ]
  },
  {
   "cell_type": "code",
   "execution_count": 2,
   "metadata": {},
   "outputs": [
    {
     "name": "stdout",
     "output_type": "stream",
     "text": [
      "[9, 8, 5, 3]\n"
     ]
    }
   ],
   "source": [
    "#11. Reverse sort\n",
    "arr=[8,9,3,5]\n",
    "arr.sort(reverse=True)\n",
    "print(arr)"
   ]
  },
  {
   "cell_type": "code",
   "execution_count": 3,
   "metadata": {},
   "outputs": [
    {
     "name": "stdout",
     "output_type": "stream",
     "text": [
      "['VW', 'BMW', 'Hyundai', 'Ferrari']\n"
     ]
    }
   ],
   "source": [
    "#12. Sort using key- based on length.\n",
    "def myFunc(e):\n",
    "  return len(e)\n",
    "cars = ['Hyundai', 'Ferrari', 'BMW', 'VW']\n",
    "cars.sort(key=myFunc)\n",
    "print(cars)"
   ]
  },
  {
   "cell_type": "code",
   "execution_count": 4,
   "metadata": {},
   "outputs": [
    {
     "name": "stdout",
     "output_type": "stream",
     "text": [
      "['Hyundai', 'Ferrari', 'BMW', 'VW']\n"
     ]
    }
   ],
   "source": [
    "#13. Sorting based on length and reversing\n",
    "def myFunc(e):\n",
    "  return len(e)\n",
    "cars.sort(reverse=True, key=myFunc)\n",
    "print(cars)"
   ]
  },
  {
   "cell_type": "code",
   "execution_count": 6,
   "metadata": {},
   "outputs": [
    {
     "name": "stdout",
     "output_type": "stream",
     "text": [
      "['red', 'yellow', 'orange', 9, 8, 5, 3]\n",
      "3\n"
     ]
    }
   ],
   "source": [
    "#14. Printing the last item of list\n",
    "colors=['red','yellow','orange']\n",
    "colors.extend(arr)\n",
    "print(colors)\n",
    "print(colors[-1])"
   ]
  },
  {
   "cell_type": "code",
   "execution_count": 7,
   "metadata": {},
   "outputs": [
    {
     "name": "stdout",
     "output_type": "stream",
     "text": [
      "['yellow', 'orange', 9]\n"
     ]
    }
   ],
   "source": [
    "#15. Printing based on given range- last index is not inclusive(1 is included & 4 is'nt)\n",
    "print(colors[1:4])"
   ]
  },
  {
   "cell_type": "code",
   "execution_count": 8,
   "metadata": {},
   "outputs": [
    {
     "name": "stdout",
     "output_type": "stream",
     "text": [
      "['orange', 9, 8, 5, 3]\n"
     ]
    }
   ],
   "source": [
    "#16. Printing based on index by leaving out end value\n",
    "print(colors[2:])"
   ]
  },
  {
   "cell_type": "code",
   "execution_count": 9,
   "metadata": {},
   "outputs": [
    {
     "name": "stdout",
     "output_type": "stream",
     "text": [
      "['red', 'yellow', 'orange', 9]\n"
     ]
    }
   ],
   "source": [
    "#17. Printing based on index by leaving out starting value\n",
    "print(colors[:4])"
   ]
  },
  {
   "cell_type": "code",
   "execution_count": 10,
   "metadata": {},
   "outputs": [
    {
     "name": "stdout",
     "output_type": "stream",
     "text": [
      "['orange', 9, 8, 5]\n"
     ]
    }
   ],
   "source": [
    "#18. Printing based on negative indices\n",
    "print(colors[-5:-1])"
   ]
  },
  {
   "cell_type": "code",
   "execution_count": 12,
   "metadata": {},
   "outputs": [
    {
     "name": "stdout",
     "output_type": "stream",
     "text": [
      "yellow is present\n"
     ]
    }
   ],
   "source": [
    "#19. Check if item exists.\n",
    "if 'yellow' in colors:\n",
    "        print(\"yellow is present\")"
   ]
  },
  {
   "cell_type": "code",
   "execution_count": 13,
   "metadata": {},
   "outputs": [
    {
     "name": "stdout",
     "output_type": "stream",
     "text": [
      "['red', 'purple', 'yellow', 'orange', 9, 8, 5, 3]\n"
     ]
    }
   ],
   "source": [
    "#20. Inserting an element in the given index \n",
    "colors.insert(1,'purple')\n",
    "print(colors)"
   ]
  },
  {
   "cell_type": "code",
   "execution_count": 14,
   "metadata": {},
   "outputs": [
    {
     "name": "stdout",
     "output_type": "stream",
     "text": [
      "['red', 'purple', 'yellow', 'orange', 9, 8, 3]\n"
     ]
    }
   ],
   "source": [
    "#21. Deleting an element in the given index\n",
    "del colors[6]\n",
    "print(colors)"
   ]
  },
  {
   "cell_type": "code",
   "execution_count": null,
   "metadata": {},
   "outputs": [],
   "source": []
  }
 ],
 "metadata": {
  "kernelspec": {
   "display_name": "Python 3",
   "language": "python",
   "name": "python3"
  },
  "language_info": {
   "codemirror_mode": {
    "name": "ipython",
    "version": 3
   },
   "file_extension": ".py",
   "mimetype": "text/x-python",
   "name": "python",
   "nbconvert_exporter": "python",
   "pygments_lexer": "ipython3",
   "version": "3.8.3"
  }
 },
 "nbformat": 4,
 "nbformat_minor": 4
}
